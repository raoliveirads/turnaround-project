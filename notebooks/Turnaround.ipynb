{
 "cells": [
  {
   "cell_type": "markdown",
   "id": "bd4ee70e",
   "metadata": {},
   "source": [
    "<font color='#415a77'>\n",
    "\n",
    "# **The Problem:**\n",
    "\n",
    "One of the major challenges faced by airports and airlines is the optimization of operations to ensure smooth air traffic, reduce costs, and improve the passenger experience. One of the key performance indicators in this context is the turnaround time.\n",
    "\n",
    "\n",
    "### **What is Turnaround?**\n",
    "\n",
    "Turnaround is one of the most critical processes in airport operations, as it directly affects the efficiency, punctuality, and profitability of airlines. This term refers to the time required for an aircraft to complete all ground activities between landing and the next takeoff. The faster and more efficient this process is, the lower the operational costs and the greater the airport’s capacity to handle a higher volume of flights.\n",
    "\n",
    "\n",
    "### **The Importance of Turnaround:**\n",
    "\n",
    "Optimizing turnaround reduces delays, improves punctuality, and increases operational efficiency, positively impacting the reputation of both airlines and airports. Moreover, a well-managed turnaround enables better fleet utilization, contributing to the sustainability of the aviation sector.\n",
    "\n",
    "\n",
    "### **The Challenge:**\n",
    "\n",
    "In this scenario, there is a need to develop an analytical model capable of identifying which processes may be creating operational bottlenecks and affecting the total ground time, considering various factors such as:\n",
    "\n",
    "\t- Passenger disembarkation/embarkation\n",
    "\t- Baggage removal\n",
    "\t- Aircraft cleaning\n",
    "\t- Restocking of supplies\n",
    "\t- Fuel refueling\n",
    "\t- Maintenance and technical inspections\n",
    "\t- Baggage and cargo loading\n",
    "\t- Passenger boarding\n",
    "\t- Crew change\n",
    "\n",
    "### **Benefits of Optimizing Turnaround Time:**\n",
    "\n",
    "\t- Delay reduction: With a faster and more efficient operational flow, flights depart on schedule, minimizing impacts on the flight network.\n",
    "\t- Increased operational capacity: Optimized processes allow more flights to be handled without the need for infrastructure expansion.\n",
    "\t- Reduced operational costs: Less ground time means lower expenses with fuel, staff, and airport fees.\n",
    "\t- Improved passenger experience: Faster boarding and disembarkation lead to greater satisfaction and comfort for travelers.\n",
    "\t- Sustainability: Less ground waiting time results in lower carbon emissions, contributing to environmental efficiency.\n",
    "\t- Fleet optimization: With less idle time, aircraft can perform more flights per day, maximizing profitability.\n",
    "\t- Greater predictability: With predictive analysis tools, it’s possible to anticipate and address bottlenecks before they impact operations.\n",
    "\n",
    "### **Next Steps:**\n",
    "\n",
    "To solve this problem, the following steps are necessary:\n",
    "\n",
    "\t- Data collection and organization: Gather historical data on airport operations, including records of each process that affects turnaround.\n",
    "\t- Exploratory data analysis: Identify the most important variables and their relationships with turnaround time.\n",
    "\t- Building a predictive model: Use machine learning techniques to develop a model capable of identifying the processes that most affect turnaround time.\n",
    "\t- Model validation: Assess the model’s accuracy using a test dataset.\n",
    "\t- Implementation and monitoring: Integrate the model into a decision-support system and continuously monitor its performance.\n",
    "\t- By implementing a solution to predict taxi time, airports and airlines can optimize their operations, reduce costs, and enhance customer satisfaction.\n",
    "\n",
    "</font>"
   ]
  },
  {
   "cell_type": "markdown",
   "id": "71a1b5a4",
   "metadata": {},
   "source": [
    "# Initial Setup"
   ]
  },
  {
   "cell_type": "markdown",
   "id": "0d81f66c",
   "metadata": {},
   "source": [
    "## Imports"
   ]
  },
  {
   "cell_type": "code",
   "execution_count": 1,
   "id": "b07bcc5c",
   "metadata": {},
   "outputs": [
    {
     "name": "stdout",
     "output_type": "stream",
     "text": [
      "Note: you may need to restart the kernel to use updated packages.\n"
     ]
    }
   ],
   "source": [
    "# importing the necessary libraries\n",
    "#%pip install ydata-profiling\n",
    "%pip install -q -U watermark\n",
    "\n",
    "# importing data manipulation libraries\n",
    "import pandas as pd\n",
    "import numpy as np\n",
    "\n",
    "#importing os manipulation libraries\n",
    "import os\n",
    "\n",
    "#importing shape library for model interpretability\n",
    "import shap\n",
    "\n",
    "# importing visualization libraries\n",
    "import matplotlib.pyplot as plt\n",
    "import seaborn as sns\n",
    "\n",
    "# importing machine learning libraries\n",
    "import sklearn\n",
    "from sklearn.model_selection import train_test_split\n",
    "from sklearn.preprocessing import StandardScaler, MinMaxScaler, LabelEncoder, OneHotEncoder\n",
    "from sklearn.compose import ColumnTransformer\n",
    "from sklearn.pipeline import Pipeline\n",
    "\n",
    "# importing machine learning models\n",
    "from sklearn.linear_model import LinearRegression, LogisticRegression\n",
    "import xgboost as xgb\n",
    "\n",
    "# importing evaluation metrics\n",
    "from sklearn.metrics import accuracy_score, confusion_matrix, classification_report, mean_squared_error, r2_score\n",
    "\n",
    "#importing warnings library\n",
    "import warnings\n",
    "warnings.filterwarnings('ignore')"
   ]
  }
 ],
 "metadata": {
  "kernelspec": {
   "display_name": "base",
   "language": "python",
   "name": "python3"
  },
  "language_info": {
   "codemirror_mode": {
    "name": "ipython",
    "version": 3
   },
   "file_extension": ".py",
   "mimetype": "text/x-python",
   "name": "python",
   "nbconvert_exporter": "python",
   "pygments_lexer": "ipython3",
   "version": "3.12.7"
  }
 },
 "nbformat": 4,
 "nbformat_minor": 5
}
